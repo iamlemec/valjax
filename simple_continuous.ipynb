{
 "cells": [
  {
   "cell_type": "code",
   "execution_count": 0,
   "metadata": {},
   "outputs": [],
   "source": [
    "import valjax as vj\n",
    "import jax\n",
    "import jax.numpy as npx\n",
    "import numpy as np0\n",
    "from jax import lax\n",
    "from scipy.optimize import fsolve"
   ]
  },
  {
   "cell_type": "code",
   "execution_count": 0,
   "metadata": {},
   "outputs": [],
   "source": [
    "import matplotlib.pyplot as plt\n",
    "import matplotlib as mpl\n",
    "mpl.style.use('clean')\n",
    "%matplotlib inline\n",
    "%config InlineBackend.figure_format = 'retina'"
   ]
  },
  {
   "cell_type": "code",
   "execution_count": 0,
   "metadata": {},
   "outputs": [],
   "source": [
    "import warnings\n",
    "warnings.filterwarnings('ignore')"
   ]
  },
  {
   "cell_type": "code",
   "execution_count": 0,
   "metadata": {},
   "outputs": [],
   "source": [
    "# fixed params\n",
    "T = 2500 # max number of iterations (time periods)\n",
    "N = 100 # number of capital grid points\n",
    "Δ = 0.2 # time step for value function\n",
    "μ = 0.5 # updating speed for value function\n",
    "c0 = 1e-6 # minimal consumption value\n",
    "σ = 10 # how steep sigmoid for winding\n",
    "f_lo, f_hi = 0.5, 2.0 # proportional grid range"
   ]
  },
  {
   "cell_type": "code",
   "execution_count": 0,
   "metadata": {},
   "outputs": [],
   "source": [
    "# simple parameters\n",
    "par0 = {\n",
    "    'ρ': 0.05,\n",
    "    'δ': 0.1,\n",
    "    'α': 0.35,\n",
    "    'γ': 10.0,\n",
    "    'η': 3.0,\n",
    "    'z': 1.0,\n",
    "}"
   ]
  },
  {
   "cell_type": "code",
   "execution_count": 0,
   "metadata": {},
   "outputs": [],
   "source": [
    "# technical functions\n",
    "def smoothstep(x, np=npx):\n",
    "    return np.where(x > 0, np.where(x < 1, 3*x**2 - 2*x**3, 1), 0)\n",
    "def sigstep(x, σ=1, np=npx):\n",
    "    return smoothstep(0.5*(σ*x+1), np=np)"
   ]
  },
  {
   "cell_type": "code",
   "execution_count": 0,
   "metadata": {},
   "outputs": [],
   "source": [
    "# defined functions\n",
    "def prod(k, z, α, np=npx):\n",
    "    return z*k**α\n",
    "def prodp(k, z, α, np=npx):\n",
    "    return α*z*k**(α-1)\n",
    "def util(c, eps=c0, np=npx):\n",
    "    c1 = np.maximum(eps, c)\n",
    "    return np.log(c1)\n",
    "def utilp(c, eps=c0, np=npx):\n",
    "    c1 = np.maximum(eps, c)\n",
    "    return 1/c1\n",
    "def cost(i, γ, η, np=np):\n",
    "    ib = np.maximum(0, i)\n",
    "    return γ*(ib**η)\n",
    "def costp(i, γ, η, np=npx):\n",
    "    ib = np.maximum(0, i)\n",
    "    return γ*η*(ib**(η-1))"
   ]
  },
  {
   "cell_type": "code",
   "execution_count": 0,
   "metadata": {},
   "outputs": [],
   "source": [
    "# find steady state capital\n",
    "def kss_func(k, par, np=npx):\n",
    "    ρ, δ, z, α, γ, η = par['ρ'], par['δ'], par['z'], par['α'], par['γ'], par['η']\n",
    "    i = δ*k\n",
    "    y = prod(k, z, α, np=np)\n",
    "    fp = prodp(k, z, α, np=np)\n",
    "    v_k = fp/(ρ+δ)\n",
    "    dp = costp(i, γ, η, np=np)\n",
    "    return dp - v_k\n",
    "k_ss, = fsolve(lambda k: kss_func(k, par0), 1)\n",
    "print(k_ss)"
   ]
  },
  {
   "cell_type": "code",
   "execution_count": 0,
   "metadata": {},
   "outputs": [],
   "source": [
    "# construct capital grid\n",
    "k_min = f_lo*k_ss\n",
    "k_max = f_hi*k_ss\n",
    "k_grid = np.linspace(k_min, k_max, N)"
   ]
  },
  {
   "cell_type": "code",
   "execution_count": 0,
   "metadata": {},
   "outputs": [],
   "source": [
    "def value(par, grid, st, tv, np=npx):\n",
    "    ρ, δ, γ, η = par['ρ'], par['δ'], par['γ'], par['η']\n",
    "    y_vals = grid['y']\n",
    "    v_vals, i_vals = st['vn'], st['iv']\n",
    "\n",
    "    # find important terms\n",
    "    d_cost = cost(i_vals, γ, η, np=np)\n",
    "    c_vals = y_vals - d_cost\n",
    "    u_vals = util(c_vals, np=np)\n",
    "    k_diff = i_vals - δ*k_grid\n",
    "\n",
    "    # interpolate v-prime\n",
    "    k_next = k_grid + Δ*k_diff\n",
    "    kn_idx = N*(k_next-k_min)/(k_max-k_min)\n",
    "    v_next = vj.interp(v_vals, (kn_idx,))\n",
    "    v_prim = Δ*u_vals + (1/(1+Δ*ρ))*v_next\n",
    "\n",
    "    # discrete derivative - with the correct winding!\n",
    "    dv_base = np.diff(v_vals)/np.diff(k_grid)\n",
    "    dv_lo = np.concatenate([dv_base[0:1], dv_base])\n",
    "    dv_hi = np.concatenate([dv_base, dv_base[-2:-1]])\n",
    "    sig = sigstep(k_diff, σ, np=np)\n",
    "    dv_vals = sig*dv_hi + (1-sig)*dv_lo\n",
    "\n",
    "    # first order condition for investment\n",
    "    u_prim = utilp(c_vals, np=np)\n",
    "    i_prim = (np.maximum(0, dv_vals/u_prim)/(γ*η))**(1/(η-1))\n",
    "    \n",
    "    # compute update errors\n",
    "    v_err = np.max(np.abs(v_prim-v_vals))\n",
    "    i_err = np.max(np.abs(i_prim-i_vals))\n",
    "    err = np.maximum(v_err, i_err)\n",
    "\n",
    "    # perform partial update\n",
    "    v_prim1 = (1-μ)*v_vals + μ*v_prim\n",
    "    i_prim1 = (1-μ)*i_vals + μ*i_prim\n",
    "\n",
    "    # return state and output\n",
    "    stp = {\n",
    "        'vn': v_prim1,\n",
    "        'iv': i_prim1,\n",
    "    }    \n",
    "    out = {\n",
    "        'v': v_prim,\n",
    "        'i': i_prim,\n",
    "        'v_err': v_err,\n",
    "        'i_err': i_err,\n",
    "        'err': err,\n",
    "    }\n",
    "    \n",
    "    return stp, out"
   ]
  },
  {
   "cell_type": "code",
   "execution_count": 0,
   "metadata": {},
   "outputs": [],
   "source": [
    "def solve(par, T):\n",
    "    ρ, z, α = par['ρ'], par['z'], par['α']\n",
    "\n",
    "    # precompute grid values\n",
    "    y_grid = prod(k_grid, z, α)\n",
    "\n",
    "    # partially apply grid\n",
    "    grid = {\n",
    "        'y': y_grid,\n",
    "    }\n",
    "    value1 = jax.partial(value, par, grid)\n",
    "\n",
    "    # scan over time (backwards)\n",
    "    st0 = {\n",
    "        'vn': util(y_grid)/ρ,\n",
    "        'iv': np.zeros_like(k_grid),\n",
    "    }\n",
    "    tv = {\n",
    "        't': np.arange(T)[::-1],\n",
    "    }\n",
    "    last, path = lax.scan(value1, st0, tv)\n",
    "\n",
    "    return path"
   ]
  },
  {
   "cell_type": "code",
   "execution_count": 0,
   "metadata": {},
   "outputs": [],
   "source": [
    "jsolve = jax.jit(solve, static_argnums=(1,))"
   ]
  },
  {
   "cell_type": "markdown",
   "metadata": {},
   "source": [
    "### Using JAX"
   ]
  },
  {
   "cell_type": "code",
   "execution_count": 0,
   "metadata": {},
   "outputs": [],
   "source": [
    "ret = jsolve(par0, T)"
   ]
  },
  {
   "cell_type": "code",
   "execution_count": 0,
   "metadata": {},
   "outputs": [],
   "source": [
    "%timeit -r 10 -n 10 jsolve(par0, T)"
   ]
  },
  {
   "cell_type": "code",
   "execution_count": 0,
   "metadata": {},
   "outputs": [],
   "source": [
    "i = -1\n",
    "t_vec = np.arange(T)\n",
    "fig, (ax0, ax1, ax2) = plt.subplots(ncols=3, figsize=(12, 3))\n",
    "ax0.plot(k_grid, ret['v'][i, :]);\n",
    "ax1.plot(k_grid, ret['i'][i, :])\n",
    "ax2.plot(t_vec, ret['v_err'], t_vec, ret['i_err']);\n",
    "ax2.set_yscale('log')"
   ]
  },
  {
   "cell_type": "code",
   "execution_count": 0,
   "metadata": {},
   "outputs": [],
   "source": [
    "# plot net investment function\n",
    "def plot_invest(r, p):\n",
    "    k_diff = r['i'][-1,:] - p['δ']*k_grid\n",
    "    plt.plot(k_grid, k_diff);\n",
    "    plt.scatter(k_ss, 0, c='k', zorder=10);\n",
    "    plt.hlines(0, *plt.xlim(), linestyle='--', linewidth=1, color='k');"
   ]
  },
  {
   "cell_type": "code",
   "execution_count": 0,
   "metadata": {},
   "outputs": [],
   "source": [
    "plot_invest(ret, par0)"
   ]
  },
  {
   "cell_type": "markdown",
   "metadata": {},
   "source": [
    "### Pure Numpy"
   ]
  },
  {
   "cell_type": "code",
   "execution_count": 0,
   "metadata": {},
   "outputs": [],
   "source": [
    "# pure numpy grid\n",
    "k_grid0 = np0.linspace(k_min, k_max, N)"
   ]
  },
  {
   "cell_type": "code",
   "execution_count": 0,
   "metadata": {},
   "outputs": [],
   "source": [
    "def solve_numpy(par):\n",
    "    # get params\n",
    "    ρ, z, α = par['ρ'], par['z'], par['α']\n",
    "\n",
    "    # precompute grid values\n",
    "    y_grid0 = prod(k_grid0, z, α, np=np0)\n",
    "\n",
    "    # store history\n",
    "    v_path = np0.zeros((T, N))\n",
    "    i_path = np0.zeros((T, N))\n",
    "\n",
    "    # call value directly\n",
    "    grid0 = {'y': y_grid0}\n",
    "    st0 = {'vn': util(y_grid0, np=np0)/ρ, 'iv': np0.zeros(N)}\n",
    "    tv0 = {}\n",
    "    for t in range(T):\n",
    "        stp0, _ = value(par0, grid0, st0, tv0, np=np0)\n",
    "        st0 = {'vn': stp0['vn'], 'iv': stp0['iv']}\n",
    "        v_path[t, :] = stp0['vn']\n",
    "        i_path[t, :] = stp0['iv']\n",
    "\n",
    "    return {'v': v_path, 'i': i_path}"
   ]
  },
  {
   "cell_type": "code",
   "execution_count": 0,
   "metadata": {},
   "outputs": [],
   "source": [
    "%time ret0 = solve_numpy(par0)"
   ]
  },
  {
   "cell_type": "code",
   "execution_count": 0,
   "metadata": {},
   "outputs": [],
   "source": [
    "plot_invest(ret0, par0)"
   ]
  },
  {
   "cell_type": "code",
   "execution_count": 0,
   "metadata": {},
   "outputs": [],
   "source": []
  }
 ],
 "metadata": {
  "kernelspec": {
   "display_name": "Python 3.8",
   "language": "python",
   "name": "python3.8"
  },
  "language_info": {
   "codemirror_mode": {
    "name": "ipython",
    "version": 3
   },
   "file_extension": ".py",
   "mimetype": "text/x-python",
   "name": "python",
   "nbconvert_exporter": "python",
   "pygments_lexer": "ipython3",
   "version": "3.8.7"
  }
 },
 "nbformat": 4,
 "nbformat_minor": 4
}