{
 "cells": [
  {
   "cell_type": "code",
   "execution_count": 0,
   "metadata": {},
   "outputs": [],
   "source": [
    "import valjax as vj"
   ]
  },
  {
   "cell_type": "code",
   "execution_count": 0,
   "metadata": {},
   "outputs": [],
   "source": [
    "import jax\n",
    "import jax.numpy as np\n",
    "from jax import lax"
   ]
  },
  {
   "cell_type": "code",
   "execution_count": 0,
   "metadata": {},
   "outputs": [],
   "source": [
    "import matplotlib.pyplot as plt\n",
    "import matplotlib as mpl\n",
    "mpl.style.use('config/clean.mplstyle')\n",
    "%matplotlib inline\n",
    "%config InlineBackend.figure_format = 'retina'"
   ]
  },
  {
   "cell_type": "code",
   "execution_count": 0,
   "metadata": {},
   "outputs": [],
   "source": [
    "K = 100 # number of z values\n",
    "N = 200 # number of grid points\n",
    "f_lo, f_hi = 0.5, 2.0 # proportional grid range"
   ]
  },
  {
   "cell_type": "code",
   "execution_count": 0,
   "metadata": {},
   "outputs": [],
   "source": [
    "par0 = {\n",
    "    'β': 0.95,\n",
    "    'δ': 0.1,\n",
    "    'α': 0.35,\n",
    "    'z': np.linspace(0.9, 1.1, K),\n",
    "}"
   ]
  },
  {
   "cell_type": "code",
   "execution_count": 0,
   "metadata": {},
   "outputs": [],
   "source": [
    "# find steady state\n",
    "def get_kss(par):\n",
    "    β, δ, z, α = par['β'], par['δ'], par['z'], par['α']\n",
    "    rhs = (1-β)/β + δ\n",
    "    k = (α*z/rhs)**(1/(1-α))\n",
    "    return k\n",
    "k_ss = get_kss(par0)"
   ]
  },
  {
   "cell_type": "code",
   "execution_count": 0,
   "metadata": {},
   "outputs": [],
   "source": [
    "# construct capital grid\n",
    "k_min, k_max = f_lo*k_ss[0], f_hi*k_ss[-1]\n",
    "k_grid = np.linspace(k_min, k_max, N)"
   ]
  },
  {
   "cell_type": "code",
   "execution_count": 0,
   "metadata": {},
   "outputs": [],
   "source": [
    "def util(c, eps=1e-6):\n",
    "    c1 = np.maximum(eps, c)\n",
    "    return np.log(c1)"
   ]
  },
  {
   "cell_type": "code",
   "execution_count": 0,
   "metadata": {},
   "outputs": [],
   "source": [
    "def prod(z, k, α):\n",
    "    return z*k**α"
   ]
  },
  {
   "cell_type": "code",
   "execution_count": 0,
   "metadata": {},
   "outputs": [],
   "source": [
    "def value(par, grid, st, tv):\n",
    "    β = par['β']\n",
    "    cp = grid['cp']\n",
    "\n",
    "    vn = st['vn']\n",
    "    t = tv['t']\n",
    "\n",
    "    vp = util(cp) + β*vn[:,None,:]\n",
    "    ip = vj.smoothmax(vp, -1)\n",
    "\n",
    "    kp = vj.interp(k_grid, ip)\n",
    "    v = vj.interp_address(vp, ip, -1)\n",
    "    \n",
    "    stp = {\n",
    "        'vn': v,\n",
    "    }\n",
    "    \n",
    "    out = {\n",
    "        'v': v,\n",
    "        'kp': kp,\n",
    "    }\n",
    "    \n",
    "    return stp, out"
   ]
  },
  {
   "cell_type": "code",
   "execution_count": 0,
   "metadata": {},
   "outputs": [],
   "source": [
    "def solve(par, T):\n",
    "    α = par['α']\n",
    "    δ = par['δ']\n",
    "    z = par['z']\n",
    "\n",
    "    y_grid = prod(z[:,None], k_grid[None,:], α)\n",
    "    yd_grid = y_grid + (1-δ)*k_grid[None,:]\n",
    "    cp_grid = yd_grid[:,:,None] - k_grid[None,None,:]\n",
    "\n",
    "    grid = {\n",
    "        'cp': cp_grid\n",
    "    }\n",
    "    value1 = jax.partial(value, par, grid)\n",
    "\n",
    "    st0 = {\n",
    "        'vn': util(y_grid),\n",
    "    }\n",
    "    tv = {\n",
    "        't': np.arange(T)[::-1],\n",
    "    }\n",
    "    last, path = lax.scan(value1, st0, tv)\n",
    "\n",
    "    return path"
   ]
  },
  {
   "cell_type": "code",
   "execution_count": 0,
   "metadata": {},
   "outputs": [],
   "source": [
    "jsolve = jax.jit(solve, static_argnums=(1,))"
   ]
  },
  {
   "cell_type": "code",
   "execution_count": 0,
   "metadata": {},
   "outputs": [],
   "source": [
    "ret = jsolve(par0, 30)"
   ]
  },
  {
   "cell_type": "code",
   "execution_count": 0,
   "metadata": {},
   "outputs": [],
   "source": [
    "%timeit -r 10 -n 10 jsolve(par0, 30)"
   ]
  },
  {
   "cell_type": "code",
   "execution_count": 0,
   "metadata": {},
   "outputs": [],
   "source": [
    "plt.plot(k_grid, ret['v'][-10:,0,:].T);"
   ]
  },
  {
   "cell_type": "code",
   "execution_count": 0,
   "metadata": {},
   "outputs": [],
   "source": [
    "fig, ax = plt.subplots()\n",
    "z_mid = K // 2\n",
    "ax.plot(k_grid, ret['kp'][-1,z_mid,:]-k_grid);\n",
    "ax.hlines(0, *plt.xlim(), linewidth=1, linestyle='--', color='k')\n",
    "ax.scatter(k_ss[z_mid], 0, color='k', zorder=10);"
   ]
  },
  {
   "cell_type": "code",
   "execution_count": 0,
   "metadata": {},
   "outputs": [],
   "source": [
    "def moments(par, T):\n",
    "    ret = solve(par, T)\n",
    "    kp = ret['kp']\n",
    "    i = ret['kp'] - k_grid[None, :]\n",
    "    μi = np.mean(i)\n",
    "    return μi"
   ]
  },
  {
   "cell_type": "code",
   "execution_count": 0,
   "metadata": {},
   "outputs": [],
   "source": [
    "gmoment = jax.jit(jax.grad(moments, argnums=(0,)), static_argnums=(1,))"
   ]
  },
  {
   "cell_type": "code",
   "execution_count": 0,
   "metadata": {},
   "outputs": [],
   "source": [
    "grad, = gmoment(par0, 30)"
   ]
  },
  {
   "cell_type": "code",
   "execution_count": 0,
   "metadata": {},
   "outputs": [],
   "source": [
    "%timeit -r 10 -n 10 grad, = gmoment(par0, 30);"
   ]
  },
  {
   "cell_type": "code",
   "execution_count": 0,
   "metadata": {},
   "outputs": [],
   "source": [
    "grad['z']"
   ]
  },
  {
   "cell_type": "code",
   "execution_count": 0,
   "metadata": {},
   "outputs": [],
   "source": []
  }
 ],
 "metadata": {
  "kernelspec": {
   "display_name": "Python 3.8",
   "language": "python",
   "name": "python3.8"
  },
  "language_info": {
   "codemirror_mode": {
    "name": "ipython",
    "version": 3
   },
   "file_extension": ".py",
   "mimetype": "text/x-python",
   "name": "python",
   "nbconvert_exporter": "python",
   "pygments_lexer": "ipython3",
   "version": "3.8.10"
  }
 },
 "nbformat": 4,
 "nbformat_minor": 4
}