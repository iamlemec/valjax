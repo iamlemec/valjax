{
 "cells": [
  {
   "cell_type": "code",
   "execution_count": 0,
   "metadata": {},
   "outputs": [],
   "source": [
    "import valjax as vj\n",
    "import jax\n",
    "import jax.numpy as npx\n",
    "import numpy as np0\n",
    "from jax import lax"
   ]
  },
  {
   "cell_type": "code",
   "execution_count": 0,
   "metadata": {},
   "outputs": [],
   "source": [
    "import matplotlib.pyplot as plt\n",
    "import matplotlib as mpl\n",
    "mpl.style.use('config/clean.mplstyle')\n",
    "%matplotlib inline\n",
    "%config InlineBackend.figure_format = 'retina'"
   ]
  },
  {
   "cell_type": "code",
   "execution_count": 0,
   "metadata": {},
   "outputs": [],
   "source": [
    "import warnings\n",
    "warnings.filterwarnings('ignore')"
   ]
  },
  {
   "cell_type": "code",
   "execution_count": 0,
   "metadata": {},
   "outputs": [],
   "source": [
    "# fixed params\n",
    "T = 300 # time periods\n",
    "N = 100 # grid size"
   ]
  },
  {
   "cell_type": "code",
   "execution_count": 0,
   "metadata": {},
   "outputs": [],
   "source": [
    "# capital grid\n",
    "k_min, k_max = 0.2, 10.0\n",
    "k_grid = npx.linspace(k_min, k_max, N)"
   ]
  },
  {
   "cell_type": "code",
   "execution_count": 0,
   "metadata": {},
   "outputs": [],
   "source": [
    "# simple parameters\n",
    "par0 = {\n",
    "    'β': 0.95,\n",
    "    'δ': 0.1,\n",
    "    'α': 0.35,\n",
    "    'z': 1.0,\n",
    "}"
   ]
  },
  {
   "cell_type": "code",
   "execution_count": 0,
   "metadata": {},
   "outputs": [],
   "source": [
    "# defined functions\n",
    "def util(c, eps=1e-6, np=npx):\n",
    "    c1 = np.maximum(eps, c)\n",
    "    return np.log(c1)\n",
    "def prod(k, z, α):\n",
    "    return z*k**α"
   ]
  },
  {
   "cell_type": "code",
   "execution_count": 0,
   "metadata": {},
   "outputs": [],
   "source": [
    "def value(par, grid, st, tv, np=npx):\n",
    "    β = par['β']\n",
    "    cp = grid['cp']\n",
    "    vn = st['vn']\n",
    "\n",
    "    # calculate optimal investment\n",
    "    vp = util(cp, np=np) + β*vn[None,:]\n",
    "    ip = np.argmax(vp, axis=1)\n",
    "\n",
    "    # apply at values\n",
    "    kp = k_grid[ip]\n",
    "    v = vj.address(vp, (ip,), axis=(-1,), np=np)\n",
    "    \n",
    "    # compute update errors\n",
    "    err = np.max(np.abs(v-vn))\n",
    "\n",
    "    # return state and output\n",
    "    stp = {\n",
    "        'vn': v,\n",
    "    }    \n",
    "    out = {\n",
    "        'v': v,\n",
    "        'kp': kp,\n",
    "        'err': err,\n",
    "    }\n",
    "    \n",
    "    return stp, out"
   ]
  },
  {
   "cell_type": "code",
   "execution_count": 0,
   "metadata": {},
   "outputs": [],
   "source": [
    "def solve(par, T):\n",
    "    α = par['α']\n",
    "    δ = par['δ']\n",
    "    z = par['z']\n",
    "\n",
    "    # precompute grid values\n",
    "    y_grid = prod(k_grid, z, α)\n",
    "    yd_grid = y_grid + (1-δ)*k_grid\n",
    "    cp_grid = yd_grid[:,None] - k_grid[None,:]\n",
    "\n",
    "    # partially apply grid\n",
    "    grid = {\n",
    "        'cp': cp_grid,\n",
    "    }\n",
    "    value1 = jax.partial(value, par, grid)\n",
    "\n",
    "    # scan over time (backwards)\n",
    "    st0 = {\n",
    "        'vn': util(y_grid),\n",
    "    }\n",
    "    tv = {\n",
    "        't': np.arange(T)[::-1],\n",
    "    }\n",
    "    last, path = lax.scan(value1, st0, tv)\n",
    "\n",
    "    return path"
   ]
  },
  {
   "cell_type": "code",
   "execution_count": 0,
   "metadata": {},
   "outputs": [],
   "source": [
    "jsolve = jax.jit(solve, static_argnums=(1,))"
   ]
  },
  {
   "cell_type": "markdown",
   "metadata": {},
   "source": [
    "### Using JAX"
   ]
  },
  {
   "cell_type": "code",
   "execution_count": 0,
   "metadata": {},
   "outputs": [],
   "source": [
    "ret = jsolve(par0, T)"
   ]
  },
  {
   "cell_type": "code",
   "execution_count": 0,
   "metadata": {},
   "outputs": [],
   "source": [
    "%timeit -r 10 -n 10 jsolve(par0, T)"
   ]
  },
  {
   "cell_type": "code",
   "execution_count": 0,
   "metadata": {},
   "outputs": [],
   "source": [
    "plt.plot(ret['err'])\n",
    "plt.yscale('log');"
   ]
  },
  {
   "cell_type": "markdown",
   "metadata": {},
   "source": [
    "### Pure Numpy"
   ]
  },
  {
   "cell_type": "code",
   "execution_count": 0,
   "metadata": {},
   "outputs": [],
   "source": [
    "# pure numpy grid\n",
    "k_grid0 = np0.linspace(k_min, k_max, N)"
   ]
  },
  {
   "cell_type": "code",
   "execution_count": 0,
   "metadata": {},
   "outputs": [],
   "source": [
    "def solve_numpy(par):\n",
    "    # get params\n",
    "    z, α, δ = par['z'], par['α'], par['δ']\n",
    "\n",
    "    # precompute grid values\n",
    "    y_grid0 = prod(k_grid0, z, α)\n",
    "    yd_grid0 = y_grid0 + (1-δ)*k_grid0\n",
    "    cp_grid0 = yd_grid0[:,None] - k_grid0[None,:]\n",
    "\n",
    "    # store history\n",
    "    v_path = np.zeros((T, N))\n",
    "    err = np.zeros(T)\n",
    "\n",
    "    # call value directly\n",
    "    grid0 = {'cp': cp_grid0}\n",
    "    st0 = {'vn': util(y_grid0, np=np0)}\n",
    "    tv0 = {}\n",
    "    for t in range(T):\n",
    "        stp0, _ = value(par0, grid0, st0, tv0, np=np0)\n",
    "        err[t] = np.max(np.abs(stp0['vn']-st0['vn']))\n",
    "        st0 = {'vn': stp0['vn']}\n",
    "        v_path[t, :] = stp0['vn']\n",
    "\n",
    "    return {'v': v_path, 'err': err}"
   ]
  },
  {
   "cell_type": "code",
   "execution_count": 0,
   "metadata": {},
   "outputs": [],
   "source": [
    "%time ret = solve_numpy(par0)"
   ]
  },
  {
   "cell_type": "code",
   "execution_count": 0,
   "metadata": {},
   "outputs": [],
   "source": [
    "plt.plot(ret['err'])\n",
    "plt.yscale('log');"
   ]
  },
  {
   "cell_type": "code",
   "execution_count": 0,
   "metadata": {},
   "outputs": [],
   "source": []
  }
 ],
 "metadata": {
  "kernelspec": {
   "display_name": "Python 3.8",
   "language": "python",
   "name": "python3.8"
  },
  "language_info": {
   "codemirror_mode": {
    "name": "ipython",
    "version": 3
   },
   "file_extension": ".py",
   "mimetype": "text/x-python",
   "name": "python",
   "nbconvert_exporter": "python",
   "pygments_lexer": "ipython3",
   "version": "3.8.7"
  }
 },
 "nbformat": 4,
 "nbformat_minor": 4
}